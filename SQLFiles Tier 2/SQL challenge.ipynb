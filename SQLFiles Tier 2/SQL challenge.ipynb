{
 "cells": [
  {
   "cell_type": "code",
   "execution_count": null,
   "metadata": {},
   "outputs": [],
   "source": [
    "SELECT name\n",
    "FROM Facilities\n",
    "WHERE membercost <> 0.0;"
   ]
  },
  {
   "cell_type": "code",
   "execution_count": null,
   "metadata": {},
   "outputs": [],
   "source": [
    "SELECT COUNT(name)\n",
    "FROM Facilities\n",
    "WHERE membercost = 0.0;"
   ]
  },
  {
   "cell_type": "code",
   "execution_count": null,
   "metadata": {},
   "outputs": [],
   "source": [
    "SELECT facid, name, membercost, monthlymaintenance \n",
    "FROM Facilities \n",
    "WHERE membercost < .2*monthlymaintenance;"
   ]
  },
  {
   "cell_type": "code",
   "execution_count": null,
   "metadata": {},
   "outputs": [],
   "source": [
    "SELECT *\n",
    "FROM Facilities \n",
    "WHERE facid\n",
    "IN (1,5);"
   ]
  },
  {
   "cell_type": "code",
   "execution_count": null,
   "metadata": {},
   "outputs": [],
   "source": [
    "SELECT *,\n",
    "CASE \n",
    "WHEN monthlymaintenance > 100 THEN 'expensive'\n",
    "WHEN monthlymaintenance < 100 THEN 'cheap' \n",
    "END AS category\n",
    "FROM Facilities;"
   ]
  },
  {
   "cell_type": "code",
   "execution_count": null,
   "metadata": {},
   "outputs": [],
   "source": [
    "SELECT firstname, surname\n",
    "FROM Members \n",
    "HAVING MAX(joindate);"
   ]
  },
  {
   "cell_type": "code",
   "execution_count": null,
   "metadata": {},
   "outputs": [],
   "source": [
    "SELECT CONCAT (firstname, ' ,', surname) AS fullname, name\n",
    "FROM Facilities \n",
    "INNER JOIN Bookings\n",
    "USING (facid)\n",
    "INNER JOIN Members \n",
    "using (memid)\n",
    "WHERE facid IN (0,1);"
   ]
  },
  {
   "cell_type": "code",
   "execution_count": null,
   "metadata": {},
   "outputs": [],
   "source": [
    "SELECT CONCAT (firstname, ' ,', surname) AS fullname, name, \n",
    "CASE WHEN memid = 0 THEN guestcost*slots\n",
    "ELSE membercost*slots END AS cost\n",
    "FROM Facilities AS f\n",
    "INNER JOIN Bookings AS b\n",
    "USING (facid)\n",
    "INNER JOIN Members AS m\n",
    "USING (memid)\n",
    "WHERE starttime BETWEEN '2012-09-14 00:00:00' AND '2012-09-14 24:30:00'\n",
    "AND CASE WHEN memid = 0 THEN guestcost*slots\n",
    "ELSE membercost*slots END > 30;"
   ]
  },
  {
   "cell_type": "code",
   "execution_count": null,
   "metadata": {},
   "outputs": [],
   "source": [
    "SELECT CONCAT (temp.firstname, ' ,', temp.surname) AS fullname, temp.name, temp.cost\n",
    "FROM (SELECT m.firstname, m.surname, name, \n",
    "      CASE WHEN memid = 0 THEN guestcost*slots\n",
    "      ELSE membercost*slots END AS cost\n",
    "      FROM Facilities AS f\n",
    "      INNER JOIN Bookings AS b\n",
    "      USING (facid)\n",
    "      INNER JOIN Members AS m\n",
    "      USING (memid)\n",
    "      WHERE starttime BETWEEN '2012-09-14 00:00:00' AND '2012-09-14 24:30:00') AS temp\n",
    "WHERE temp.cost > 30;"
   ]
  },
  {
   "cell_type": "code",
   "execution_count": null,
   "metadata": {},
   "outputs": [],
   "source": [
    "SELECT sub.name, sub.revenue\n",
    "FROM (SELECT name, \n",
    "    SUM(CASE WHEN memid =0\n",
    "    THEN guestcost * slots\n",
    "    ELSE membercost * slots END) AS revenue\n",
    "    FROM Facilities\n",
    "    INNER JOIN Bookings\n",
    "    USING ( facid )\n",
    "    GROUP BY name) AS sub\n",
    "WHERE sub.revenue <1000\n",
    "ORDER BY  sub.revenue;\n"
   ]
  },
  {
   "cell_type": "code",
   "execution_count": null,
   "metadata": {},
   "outputs": [],
   "source": [
    "SELECT CONCAT( m.surname, ', ', m.firstname ) AS 'Member Names:', concat(m2.firstname, ' ', m2.surname) as 'Recommended by:'\n",
    "FROM Members as m\n",
    "INNER JOIN Members as m2 on m.recommendedby = m2.memid\n",
    "WHERE m.recommendedby > 0\n",
    "ORDER BY m.surname ASC"
   ]
  },
  {
   "cell_type": "code",
   "execution_count": null,
   "metadata": {},
   "outputs": [],
   "source": [
    "SELECT f.name AS 'Facility Name:', SUM( b.slots ) AS 'Total bookings:'\n",
    "FROM Bookings AS b\n",
    "INNER JOIN Facilities AS f ON f.facid = b.facid\n",
    "WHERE memid >0\n",
    "GROUP BY b.facid\n",
    "ORDER BY SUM( b.slots ) DESC"
   ]
  },
  {
   "cell_type": "code",
   "execution_count": null,
   "metadata": {},
   "outputs": [],
   "source": [
    "SELECT f.name AS 'Facility Name:',\n",
    "SUM(CASE WHEN EXTRACT(MONTH FROM starttime ) =7 THEN 1 ELSE 0 END) AS July,\n",
    "SUM(CASE WHEN EXTRACT(MONTH FROM starttime ) =8 THEN 1 ELSE 0 END) AS August,\n",
    "SUM(CASE WHEN EXTRACT(MONTH FROM starttime ) =9 THEN 1 ELSE 0 END) AS September\n",
    "FROM Bookings AS b\n",
    "INNER JOIN Facilities AS f ON f.facid = b.facid\n",
    "WHERE memid >0\n",
    "GROUP BY name"
   ]
  }
 ],
 "metadata": {
  "kernelspec": {
   "display_name": "Python 3",
   "language": "python",
   "name": "python3"
  },
  "language_info": {
   "codemirror_mode": {
    "name": "ipython",
    "version": 3
   },
   "file_extension": ".py",
   "mimetype": "text/x-python",
   "name": "python",
   "nbconvert_exporter": "python",
   "pygments_lexer": "ipython3",
   "version": "3.8.5"
  }
 },
 "nbformat": 4,
 "nbformat_minor": 4
}
